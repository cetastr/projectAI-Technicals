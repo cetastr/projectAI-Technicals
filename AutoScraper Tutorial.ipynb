{
 "cells": [
  {
   "cell_type": "markdown",
   "metadata": {},
   "source": [
    "Source: @DeepCharts Youtube Channel (https://www.youtube.com/@DeepCharts)"
   ]
  },
  {
   "cell_type": "markdown",
   "metadata": {},
   "source": [
    "# AutoScraper Tutorial"
   ]
  },
  {
   "cell_type": "markdown",
   "metadata": {},
   "source": [
    "### Example 1: Pulling Text"
   ]
  },
  {
   "cell_type": "code",
   "execution_count": null,
   "metadata": {},
   "outputs": [],
   "source": [
    "from autoscraper import AutoScraper\n",
    "\n",
    "# Web Page to Scrape from\n",
    "url = 'https://www.noaa.gov/media-releases'\n",
    "\n",
    "# Example Text to Pull\n",
    "# Note: Change below to most recent news release headline on 'https://www.noaa.gov/media-releases'\n",
    "news_list = [\"Applications now open nationwide for community-led heat-monitoring campaigns\"]\n",
    "\n",
    "# Initialize AutoScraper\n",
    "scraper = AutoScraper()\n",
    "\n",
    "# Build Model\n",
    "news_result = scraper.build(url, news_list)\n",
    "\n",
    "# Review Results\n",
    "news_result"
   ]
  },
  {
   "cell_type": "markdown",
   "metadata": {},
   "source": [
    "### Example 2: Pulling Tabular Data"
   ]
  },
  {
   "cell_type": "code",
   "execution_count": null,
   "metadata": {},
   "outputs": [],
   "source": [
    "from autoscraper import AutoScraper\n",
    "\n",
    "# Web Page to Scrape from\n",
    "url = 'https://en.wikipedia.org/wiki/List_of_counties_in_California'\n",
    "\n",
    "# Example Text to Pull\n",
    "county_list = [\"Alameda County\",\"Yuba County\"]\n",
    "est_list = [\"1,622,188\",\"85,722\"]\n",
    "\n",
    "\n",
    "# Initialize AutoScraper\n",
    "scraper = AutoScraper()\n",
    "\n",
    "# Build Model\n",
    "county_result = scraper.build(url, county_list)\n",
    "est_result = scraper.build(url, est_list)\n",
    "\n",
    "# Review Results\n",
    "print(county_result)\n",
    "print(est_result)\n"
   ]
  },
  {
   "cell_type": "code",
   "execution_count": null,
   "metadata": {},
   "outputs": [],
   "source": [
    "import pandas as pd\n",
    "\n",
    "# Convert Lists to Dictionary\n",
    "data = {'County': county_result, 'Estimated Population': est_result}\n",
    "\n",
    "# Convert Dictionary to Dataframe\n",
    "df = pd.DataFrame(data)\n",
    "\n",
    "df"
   ]
  }
 ],
 "metadata": {
  "kernelspec": {
   "display_name": "general_env",
   "language": "python",
   "name": "python3"
  },
  "language_info": {
   "codemirror_mode": {
    "name": "ipython",
    "version": 3
   },
   "file_extension": ".py",
   "mimetype": "text/x-python",
   "name": "python",
   "nbconvert_exporter": "python",
   "pygments_lexer": "ipython3",
   "version": "3.12.3"
  }
 },
 "nbformat": 4,
 "nbformat_minor": 2
}
